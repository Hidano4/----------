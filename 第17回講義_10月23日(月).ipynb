{
  "nbformat": 4,
  "nbformat_minor": 0,
  "metadata": {
    "colab": {
      "provenance": [],
      "authorship_tag": "ABX9TyNQE6YH5Yi+gMQZmLInTBdk",
      "include_colab_link": true
    },
    "kernelspec": {
      "name": "python3",
      "display_name": "Python 3"
    },
    "language_info": {
      "name": "python"
    }
  },
  "cells": [
    {
      "cell_type": "markdown",
      "metadata": {
        "id": "view-in-github",
        "colab_type": "text"
      },
      "source": [
        "<a href=\"https://colab.research.google.com/github/Hidano4/----------/blob/main/%E7%AC%AC17%E5%9B%9E%E8%AC%9B%E7%BE%A9_10%E6%9C%8823%E6%97%A5(%E6%9C%88).ipynb\" target=\"_parent\"><img src=\"https://colab.research.google.com/assets/colab-badge.svg\" alt=\"Open In Colab\"/></a>"
      ]
    },
    {
      "cell_type": "code",
      "source": [
        "%reset -f\n",
        "arr1 = [29, 3.14, \"円周率\", False] # 様々な型を内包することが可能\n",
        "arr2 = [[0.0, 0.1],       # 行ごとの要素数が違っていても可\n",
        "        [1.0, 1.1, 1.2],\n",
        "        [2.0],\n",
        "        [3.0, 3.1, 3.2, 3.3]]\n",
        "\n",
        "print(f'型確認 arr1 => {type(arr1)}') # 型確認 arr1 => <class 'list'>\n",
        "print(f'型確認 arr2 => {type(arr2)}') # 型確認 arr1 => <class 'list'>\n",
        "\n",
        "print(f'arr1 の長さ（要素数）は {None}') # => 4\n",
        "print(f'arr2 の長さ（要素数）は {None}') # => 4\n",
        "print(f'arr2[0] の長さ（要素数）は {None}') # => 2\n",
        "print(f'arr2[1] の長さ（要素数）は {None}') # => 3"
      ],
      "metadata": {
        "colab": {
          "base_uri": "https://localhost:8080/"
        },
        "id": "deBoonNw7Otm",
        "outputId": "9650dba0-5e17-4b86-fb35-930435af0a4f"
      },
      "execution_count": 22,
      "outputs": [
        {
          "output_type": "stream",
          "name": "stdout",
          "text": [
            "型確認 arr1 => <class 'list'>\n",
            "型確認 arr2 => <class 'list'>\n",
            "arr1 の長さ（要素数）は None\n",
            "arr2 の長さ（要素数）は None\n",
            "arr2[0] の長さ（要素数）は None\n",
            "arr2[1] の長さ（要素数）は None\n"
          ]
        }
      ]
    },
    {
      "cell_type": "code",
      "execution_count": 28,
      "metadata": {
        "colab": {
          "base_uri": "https://localhost:8080/"
        },
        "id": "jYN3rUjN4abZ",
        "outputId": "bc015375-09e9-48a1-8cf6-667e111dd14a"
      },
      "outputs": [
        {
          "output_type": "stream",
          "name": "stdout",
          "text": [
            "a = 31\n",
            "57\n",
            "b = 0\n"
          ]
        }
      ],
      "source": [
        "%reset -f\n",
        "arr3 = [[26, 38, 14, 57], # 3行4列の2次配列の初期化\n",
        "        [39, 31, 94, 63],\n",
        "        [41, 72, 65, 24]]\n",
        "\n",
        "# 演習1\n",
        "a =arr3[1][1]\n",
        "print(f'a = {a}')\n",
        "\n",
        "# 演習2\n",
        "print(arr3[0][3])\n",
        "\n",
        "# 演習3\n",
        "b = arr3\n",
        "print(f'b = {b}')"
      ]
    },
    {
      "cell_type": "code",
      "source": [
        "%reset -f\n",
        "a = [10,20,30,40] # 初期化(数値)\n",
        "b = a[0] * a[1]   # a[0]で0番目の要素(=10)、a[1]で1番目の要素(=20)を参照\n",
        "print(f'b = {b}') # b = 200\n",
        "%reset -f\n",
        "a = [10,20,30]\n",
        "b = a\n",
        "c = a"
      ],
      "metadata": {
        "colab": {
          "base_uri": "https://localhost:8080/"
        },
        "id": "uvqtN-iS5wyK",
        "outputId": "b73e0f1b-f27c-40a3-9ab1-23b0090d630c"
      },
      "execution_count": 13,
      "outputs": [
        {
          "output_type": "stream",
          "name": "stdout",
          "text": [
            "b = 200\n"
          ]
        }
      ]
    },
    {
      "cell_type": "code",
      "source": [
        "%reset -f\n",
        "arr4 = ['A','B','C']\n",
        "arr4.append('D') # 末尾に 'D' を挿入\n",
        "arr4.append('E')\n",
        "print('arr4 = ',end='')\n",
        "print(arr4) # => ['A','B','C','D','E']\n",
        "\n",
        "arr5 = []\n",
        "arr5.append(['A','B'])\n",
        "arr5.append([]) # 末尾に 空のリスト [] を挿入\n",
        "arr5[1].append('C') # 上で挿入した空リストの末尾に 'C' を挿入\n",
        "arr5[1].append('D')\n",
        "arr5.append([]) # 末尾に 空のリスト [] を挿入\n",
        "arr5[2].append('E') # 上で挿入した空リストの末尾に 'C' を挿入\n",
        "arr5[2].append('F')\n",
        "print('arr5 = ',end='')\n",
        "print(arr5) # =>[['A','B'], ['C','D']]"
      ],
      "metadata": {
        "colab": {
          "base_uri": "https://localhost:8080/"
        },
        "id": "4Sby3kWA4met",
        "outputId": "5b66769f-a918-4a17-c378-8e5eaa36418c"
      },
      "execution_count": 32,
      "outputs": [
        {
          "output_type": "stream",
          "name": "stdout",
          "text": [
            "arr4 = ['A', 'B', 'C', 'D', 'E']\n",
            "arr5 = [['A', 'B'], ['C', 'D'], ['E', 'F']]\n"
          ]
        }
      ]
    },
    {
      "cell_type": "code",
      "source": [
        "%reset -f\n",
        "arr6 = [[10, 20, 30, 40],\n",
        "        [50, 60, 70],\n",
        "        [80, 90]]\n",
        "\n",
        "for i in range(len(arr6)):\n",
        "  for j in range(len(arr6[i])):\n",
        "    arr6[i][j] += 5\n",
        "\n",
        "print(arr6)\n",
        "\n",
        "# 演習\n",
        "arr7 = [[20,30,40],[50,40,30]]\n",
        "arr8 = [[10,20,10],[20,10,10]]\n",
        "arr9 = []\n",
        "for i in range(len(arr7)):\n",
        "  arr9.append([])\n",
        "  for j in range(len(arr7[i])):\n",
        "    arr9[i].append( arr7[i][j]+arr8[i][j])\n",
        "print(arr9) # => [[30, 50, 50], [70, 50, 40]]"
      ],
      "metadata": {
        "colab": {
          "base_uri": "https://localhost:8080/"
        },
        "id": "2I_JwFdd82Be",
        "outputId": "e02d680d-fb8b-4ddb-9517-e142ff52de34"
      },
      "execution_count": 61,
      "outputs": [
        {
          "output_type": "stream",
          "name": "stdout",
          "text": [
            "[[15, 25, 35, 45], [55, 65, 75], [85, 95]]\n",
            "[[30, 50, 50], [70, 50, 40]]\n"
          ]
        }
      ]
    },
    {
      "cell_type": "code",
      "source": [
        "%reset -f\n",
        "arr = list(range(1,11)) # rangeを使用した初期化\n",
        "print(arr) # => [1, 2, 3, 4, 5, 6, 7, 8, 9, 10]\n",
        "\n",
        "print(arr[:3])   # arr[0]からarr[3-1]までスライス\n",
        "print(arr[2:5])  # arr[2]からarr[5-1]までスライス\n",
        "print(arr[4:])   # arr[4]から末尾までスライス\n",
        "print(arr[5:5+3])  # arr[5]から要素3個をスライス\n",
        "print(arr[1:3+3])"
      ],
      "metadata": {
        "colab": {
          "base_uri": "https://localhost:8080/"
        },
        "id": "Rwkxpc_A-uEn",
        "outputId": "906aebd0-f0ed-4b3d-a878-70b1063ae028"
      },
      "execution_count": 49,
      "outputs": [
        {
          "output_type": "stream",
          "name": "stdout",
          "text": [
            "[1, 2, 3, 4, 5, 6, 7, 8, 9, 10]\n",
            "[1, 2, 3]\n",
            "[3, 4, 5]\n",
            "[5, 6, 7, 8, 9, 10]\n",
            "[6, 7, 8]\n",
            "[2, 3, 4, 5, 6]\n"
          ]
        }
      ]
    },
    {
      "cell_type": "code",
      "source": [
        "%reset -f\n",
        "import copy\n",
        "\n",
        "# ■■ 浅いコピー ■■\n",
        "arr10 = [10,20,30]\n",
        "arr11 = arr10  # 浅いコピー\n",
        "arr11[0] = 'A'\n",
        "print('浅いコピー')\n",
        "print(f'arr10 = {arr10}') # => arr10 = ['A', 20, 30] ← !!!\n",
        "print(f'arr11 = {arr11}') # => arr11 = ['A', 20, 30]\n",
        "\n",
        "# ■■ 深いコピー ■■\n",
        "arr10 = [10,20,30]\n",
        "arr11 = copy.deepcopy(arr10)  # 深いコピー\n",
        "arr11[0] = 'A'\n",
        "print('深いコピー')\n",
        "print(f'arr10 = {arr10}') # => arr10 = [10, 20, 30] ← :D\n",
        "print(f'arr11 = {arr11}') # => arr11 = ['A', 20, 30]"
      ],
      "metadata": {
        "colab": {
          "base_uri": "https://localhost:8080/"
        },
        "id": "3B-rhcXx_uqP",
        "outputId": "1536b6ad-92a4-4d41-936b-25411d921aea"
      },
      "execution_count": 50,
      "outputs": [
        {
          "output_type": "stream",
          "name": "stdout",
          "text": [
            "浅いコピー\n",
            "arr10 = ['A', 20, 30]\n",
            "arr11 = ['A', 20, 30]\n",
            "深いコピー\n",
            "arr10 = [10, 20, 30]\n",
            "arr11 = ['A', 20, 30]\n"
          ]
        }
      ]
    },
    {
      "cell_type": "code",
      "source": [
        "%reset -f\n",
        "arr = [20,30]    # [ ] により「リスト型」として初期化される\n",
        "print(type(arr)) # => <class 'list'>\n",
        "\n",
        "tpl = (20,30)    # ( ) により「タプル型」として初期化される\n",
        "print(type(tpl)) # => <class 'tuple'>\n",
        "%reset -f\n",
        "tpl = (20,30)\n",
        "tpl = (50,60) # 丸ごと入れ替え\n",
        "print(f'tpl = {tpl}') # tpl => (50,60)"
      ],
      "metadata": {
        "colab": {
          "base_uri": "https://localhost:8080/"
        },
        "id": "k2GZntWiAYmz",
        "outputId": "4e6a7966-5924-4513-f2b1-0626fd1dece3"
      },
      "execution_count": 52,
      "outputs": [
        {
          "output_type": "stream",
          "name": "stdout",
          "text": [
            "<class 'list'>\n",
            "<class 'tuple'>\n",
            "tpl = (50, 60)\n"
          ]
        }
      ]
    },
    {
      "cell_type": "code",
      "source": [
        "%reset -f\n",
        "course = {'I':'知能情報', 'M':'エネルギー機械'} # 辞書の初期化\n",
        "course['E'] = 'エレクトロニクス' # 初期化後の辞書に追加\n",
        "course['D'] = 'プロダクトデザイン'\n",
        "\n",
        "key = 'I'\n",
        "print(f'{key} ... {course[key]}')\n",
        "print()\n",
        "\n",
        "# for構文の組合せた全列挙\n",
        "for key in course.keys():\n",
        "  print(f'{key} ... {course[key]}')"
      ],
      "metadata": {
        "colab": {
          "base_uri": "https://localhost:8080/"
        },
        "id": "yZQ-5rgVAbi6",
        "outputId": "aa4d689c-307f-46ea-daac-3e791dc99762"
      },
      "execution_count": 53,
      "outputs": [
        {
          "output_type": "stream",
          "name": "stdout",
          "text": [
            "I ... 知能情報\n",
            "\n",
            "I ... 知能情報\n",
            "M ... エネルギー機械\n",
            "E ... エレクトロニクス\n",
            "D ... プロダクトデザイン\n"
          ]
        }
      ]
    },
    {
      "cell_type": "code",
      "source": [
        "%reset -f\n",
        "timetable = {\n",
        "  ('月',1) : 'プログラミング1',\n",
        "  ('月',3) : '基礎物理2',\n",
        "  ('月',5) : '微分積分2'\n",
        "}\n",
        "timetable[ ('火',1) ] = 'メディアデザイン入門'\n",
        "timetable[ ('火',3) ] = '社会2'\n",
        "\n",
        "key = ('水',1)\n",
        "print(f'{key[0]}曜日 {key[1]}時限 ',end='')\n",
        "if key not in timetable.keys(): # キーが存在するかチェック\n",
        "  print(f'に授業は登録されていません')\n",
        "else:\n",
        "  print(f'は「{timetable[key]}」が開講されます')\n",
        "\n",
        "key = ('月',3)\n",
        "print(f'{key[0]}曜日 {key[1]}時限 ',end='')\n",
        "if key not in timetable.keys():\n",
        "  print(f'に授業は登録されていません')\n",
        "else:\n",
        "  print(f'は「{timetable[key]}」が開講がされています')"
      ],
      "metadata": {
        "colab": {
          "base_uri": "https://localhost:8080/"
        },
        "id": "I8nPqhi4A2rb",
        "outputId": "f994371b-4ea8-43ef-dc8f-940670ec1cd8"
      },
      "execution_count": 54,
      "outputs": [
        {
          "output_type": "stream",
          "name": "stdout",
          "text": [
            "水曜日 1時限 に授業は登録されていません\n",
            "月曜日 3時限 は「基礎物理2」が開講がされています\n"
          ]
        }
      ]
    },
    {
      "cell_type": "code",
      "source": [
        "%reset -f\n",
        "a = [20,30]     # 変数a にリスト型のオブジェクトを格納\n",
        "print(type(a))  # => <class 'list'>\n",
        "print(f'a={a}') # => a=[20, 30]\n",
        "print()\n",
        "\n",
        "t = tuple(a)    # リスト型→タプル型に変換\n",
        "\n",
        "print(type(t))  # => <class 'tuple'>\n",
        "print(f't={t}') # => t=(20, 30)"
      ],
      "metadata": {
        "colab": {
          "base_uri": "https://localhost:8080/"
        },
        "id": "8cUGTmwKBt4o",
        "outputId": "905e48b9-84d6-4c88-bce8-d9594630980d"
      },
      "execution_count": 55,
      "outputs": [
        {
          "output_type": "stream",
          "name": "stdout",
          "text": [
            "<class 'list'>\n",
            "a=[20, 30]\n",
            "\n",
            "<class 'tuple'>\n",
            "t=(20, 30)\n"
          ]
        }
      ]
    },
    {
      "cell_type": "code",
      "source": [
        "%reset -f\n",
        "t = (20,30)     # 変数a にタプル型のオブジェクトを格納\n",
        "print(type(t))  # => <class 'tuple'>\n",
        "print(f't={t}') # => t=(20, 30)\n",
        "print()\n",
        "\n",
        "a = list(t)     # タプル型→リスト型に変換\n",
        "\n",
        "print(type(a))  # => <class 'list'>\n",
        "print(f'a={a}') # => a=[20, 30]"
      ],
      "metadata": {
        "colab": {
          "base_uri": "https://localhost:8080/"
        },
        "id": "lgORnT9OBu54",
        "outputId": "85c2e183-a47c-4a36-cfa8-39ab61b7f301"
      },
      "execution_count": 56,
      "outputs": [
        {
          "output_type": "stream",
          "name": "stdout",
          "text": [
            "<class 'tuple'>\n",
            "t=(20, 30)\n",
            "\n",
            "<class 'list'>\n",
            "a=[20, 30]\n"
          ]
        }
      ]
    },
    {
      "cell_type": "code",
      "source": [
        "%reset -f\n",
        "a = [10,20,30]\n",
        "t = tuple(a)\n",
        "print(f't={t}') # => t=(10, 20, 30)\n",
        "\n",
        "a[1] = 20\n",
        "print(f't={t}') # => ???\n"
      ],
      "metadata": {
        "colab": {
          "base_uri": "https://localhost:8080/"
        },
        "id": "cW_xiu61CCw6",
        "outputId": "f673a8a9-f902-4b9c-c931-8081c7e70944"
      },
      "execution_count": 57,
      "outputs": [
        {
          "output_type": "stream",
          "name": "stdout",
          "text": [
            "t=(10, 20, 30)\n",
            "t=(10, 20, 30)\n"
          ]
        }
      ]
    },
    {
      "cell_type": "code",
      "source": [
        "%reset -f\n",
        "import numpy as np  # numpy をインポート\n",
        "\n",
        "A = np.array([[20,30,40],[50,40,30]])\n",
        "B = np.array([[10,20,10],[20,10,10]])\n",
        "# print(type(A)) # => <class 'numpy.ndarray'>\n",
        "print(A+B)"
      ],
      "metadata": {
        "colab": {
          "base_uri": "https://localhost:8080/"
        },
        "id": "XTX7cKcHCIMM",
        "outputId": "ef25e647-0844-4008-c2ee-0b1fb0cf79b5"
      },
      "execution_count": 58,
      "outputs": [
        {
          "output_type": "stream",
          "name": "stdout",
          "text": [
            "[[30 50 50]\n",
            " [70 50 40]]\n"
          ]
        }
      ]
    },
    {
      "cell_type": "code",
      "source": [
        "%reset -f\n",
        "A = [[20,30,40],[50,40,30]]\n",
        "B = [[10,20,10],[20,10,10]]\n",
        "print(type(A)) # => <class 'list'>\n",
        "C = []\n",
        "\n",
        "# ▼▼▼ ここから 行列の和の計算処理 ▼▼▼\n",
        "for i in range(len(A)):\n",
        "  C.append([])\n",
        "  for j in range(len(A[i])):\n",
        "    C[i].append( A[i][j]+B[i][j])\n",
        "# ▲▲▲ ここまで ▲▲▲\n",
        "\n",
        "print(C)"
      ],
      "metadata": {
        "colab": {
          "base_uri": "https://localhost:8080/"
        },
        "id": "xfLnu2YkCTWE",
        "outputId": "16dbbcbc-c407-47c0-c7e3-e76041d8d0ca"
      },
      "execution_count": 59,
      "outputs": [
        {
          "output_type": "stream",
          "name": "stdout",
          "text": [
            "<class 'list'>\n",
            "[[30, 50, 50], [70, 50, 40]]\n"
          ]
        }
      ]
    },
    {
      "cell_type": "code",
      "source": [
        "%reset -f\n",
        "import numpy as np\n",
        "A = np.array([[ 1, 3],[ 2, 5]])\n",
        "B = np.array([[ 2,-1],[-3, 1]])\n",
        "\n",
        "#【実数倍】 例：2A-B\n",
        "X = 2*A-B\n",
        "print(X)\n",
        "\n",
        "#【積】 例：A・B\n",
        "Y = A@B # もしくは np.dot(A,B)\n",
        "print(Y)"
      ],
      "metadata": {
        "colab": {
          "base_uri": "https://localhost:8080/"
        },
        "id": "l2ljlNtrCrkM",
        "outputId": "7178794e-5f0d-4854-d839-249117d85ed1"
      },
      "execution_count": 62,
      "outputs": [
        {
          "output_type": "stream",
          "name": "stdout",
          "text": [
            "[[0 7]\n",
            " [7 9]]\n",
            "[[ -7   2]\n",
            " [-11   3]]\n"
          ]
        }
      ]
    },
    {
      "cell_type": "code",
      "source": [
        "%reset -f\n",
        "import numpy as np\n",
        "a = np.array([[ 1, 3],[ 2, 5]])\n",
        "print(f'ndarray型の変数 a の1行0列目の値は => {a[1][0]}')\n",
        "print(f'ndarray型の変数 a の1行0列目の値は => {a[1,0]}') # 注目"
      ],
      "metadata": {
        "colab": {
          "base_uri": "https://localhost:8080/"
        },
        "id": "5JelHBhICuRd",
        "outputId": "28154b71-d5b0-4858-cbfa-ddc1098ddabd"
      },
      "execution_count": 63,
      "outputs": [
        {
          "output_type": "stream",
          "name": "stdout",
          "text": [
            "ndarray型の変数 a の1行0列目の値は => 2\n",
            "ndarray型の変数 a の1行0列目の値は => 2\n"
          ]
        }
      ]
    },
    {
      "cell_type": "code",
      "source": [
        "%reset -f\n",
        "import numpy as np\n",
        "A = np.array([[3,4,5],[6,7,8]])\n",
        "X = A - 3 # ここでブロードキャストが適用\n",
        "print(X)"
      ],
      "metadata": {
        "colab": {
          "base_uri": "https://localhost:8080/"
        },
        "id": "lkcfZTgdC0Gr",
        "outputId": "6bae13a3-3e69-469f-ec9a-18bd09150504"
      },
      "execution_count": 64,
      "outputs": [
        {
          "output_type": "stream",
          "name": "stdout",
          "text": [
            "[[0 1 2]\n",
            " [3 4 5]]\n"
          ]
        }
      ]
    },
    {
      "cell_type": "code",
      "source": [
        "%reset -f\n",
        "import numpy as np\n",
        "import sympy as sp  # sympyをspとしてインポート\n",
        "A = np.array([[20,30,40],[50,40,30]])\n",
        "B = np.array([[10,20,10],[20,10,10]])\n",
        "X = A+B\n",
        "print('A+B=')\n",
        "display(sp.Matrix(X)) # ndarray型の行列を整形出力"
      ],
      "metadata": {
        "colab": {
          "base_uri": "https://localhost:8080/",
          "height": 76
        },
        "id": "VfiPesliC2Pb",
        "outputId": "16390053-7994-4d4f-9914-5e1ff2413d00"
      },
      "execution_count": 65,
      "outputs": [
        {
          "output_type": "stream",
          "name": "stdout",
          "text": [
            "A+B=\n"
          ]
        },
        {
          "output_type": "display_data",
          "data": {
            "text/plain": [
              "Matrix([\n",
              "[30, 50, 50],\n",
              "[70, 50, 40]])"
            ],
            "text/latex": "$\\displaystyle \\left[\\begin{matrix}30 & 50 & 50\\\\70 & 50 & 40\\end{matrix}\\right]$"
          },
          "metadata": {}
        }
      ]
    },
    {
      "cell_type": "code",
      "source": [
        "%reset -f\n",
        "import numpy as np\n",
        "import sympy as sp  # sympyをspとしてインポート\n",
        "from IPython.display import Math\n",
        "\n",
        "# 行列をLaTeX形式で表示する関数\n",
        "def display_math(equation_str, matrix):\n",
        "  math_str = equation_str + sp.latex(sp.Matrix(matrix))\n",
        "  display(Math(math_str))\n",
        "\n",
        "# 数値行列の作成\n",
        "A = np.array([[20, 30, 40], [50, 40, 30]])\n",
        "B = np.array([[10, 20, 10], [20, 10, 10]])\n",
        "\n",
        "# 行列の加算\n",
        "X = A + B\n",
        "\n",
        "# 結果の表示\n",
        "display_math('A=',A)\n",
        "display_math('B=',B)\n",
        "display_math('X=A+B=',X)"
      ],
      "metadata": {
        "colab": {
          "base_uri": "https://localhost:8080/",
          "height": 139
        },
        "id": "AkRae34kC8Mf",
        "outputId": "be6fd9fe-d820-44a2-d0ac-f36e3cb0d4a5"
      },
      "execution_count": 66,
      "outputs": [
        {
          "output_type": "display_data",
          "data": {
            "text/plain": [
              "<IPython.core.display.Math object>"
            ],
            "text/latex": "$\\displaystyle A=\\left[\\begin{matrix}20 & 30 & 40\\\\50 & 40 & 30\\end{matrix}\\right]$"
          },
          "metadata": {}
        },
        {
          "output_type": "display_data",
          "data": {
            "text/plain": [
              "<IPython.core.display.Math object>"
            ],
            "text/latex": "$\\displaystyle B=\\left[\\begin{matrix}10 & 20 & 10\\\\20 & 10 & 10\\end{matrix}\\right]$"
          },
          "metadata": {}
        },
        {
          "output_type": "display_data",
          "data": {
            "text/plain": [
              "<IPython.core.display.Math object>"
            ],
            "text/latex": "$\\displaystyle X=A+B=\\left[\\begin{matrix}30 & 50 & 50\\\\70 & 50 & 40\\end{matrix}\\right]$"
          },
          "metadata": {}
        }
      ]
    },
    {
      "cell_type": "code",
      "source": [
        "%reset -f\n",
        "from IPython.display import Math\n",
        "eq1 = r'\\lim_{n \\to -1}\\frac{-1}{(x+1)^2}=-\\infty'\n",
        "eq2 = r'\\sin^{-1}\\frac{\\sqrt{3}}{2}=\\frac{\\pi}{3}'\n",
        "display(Math(eq1))\n",
        "display(Math(eq2))"
      ],
      "metadata": {
        "colab": {
          "base_uri": "https://localhost:8080/",
          "height": 94
        },
        "id": "8U8BUTzCDBTj",
        "outputId": "36186c16-d34e-40a7-bae2-394c90e6dc8b"
      },
      "execution_count": 67,
      "outputs": [
        {
          "output_type": "display_data",
          "data": {
            "text/plain": [
              "<IPython.core.display.Math object>"
            ],
            "text/latex": "$\\displaystyle \\lim_{n \\to -1}\\frac{-1}{(x+1)^2}=-\\infty$"
          },
          "metadata": {}
        },
        {
          "output_type": "display_data",
          "data": {
            "text/plain": [
              "<IPython.core.display.Math object>"
            ],
            "text/latex": "$\\displaystyle \\sin^{-1}\\frac{\\sqrt{3}}{2}=\\frac{\\pi}{3}$"
          },
          "metadata": {}
        }
      ]
    },
    {
      "cell_type": "code",
      "source": [
        "%reset -f\n",
        "import numpy as np\n",
        "\n",
        "a = [[1,2,3],[4,5,6]]\n",
        "print(f'変数 a の型は {type(a)}') # => 変数 a の型は <class 'list'>\n",
        "\n",
        "A = np.array(a) # a を引数に np.array() で ndarray を作成(初期化)\n",
        "print(f'変数 A の型は {type(A)}') # => 変数 A の型は <class 'numpy.ndarray'>"
      ],
      "metadata": {
        "colab": {
          "base_uri": "https://localhost:8080/"
        },
        "id": "DAc6DxiZDD_w",
        "outputId": "dace495c-ad48-46e3-b961-3ba1aaa160f8"
      },
      "execution_count": 68,
      "outputs": [
        {
          "output_type": "stream",
          "name": "stdout",
          "text": [
            "変数 a の型は <class 'list'>\n",
            "変数 A の型は <class 'numpy.ndarray'>\n"
          ]
        }
      ]
    },
    {
      "cell_type": "code",
      "source": [
        "%reset -f\n",
        "import numpy as np\n",
        "x = np.arange(0.00,3.01,0.25)\n",
        "print(f'x.size => {x.size}')\n",
        "print(x)"
      ],
      "metadata": {
        "colab": {
          "base_uri": "https://localhost:8080/"
        },
        "id": "hVguCA6VDGWz",
        "outputId": "7bdea56c-3723-4299-80c7-dccd97b2dca0"
      },
      "execution_count": 69,
      "outputs": [
        {
          "output_type": "stream",
          "name": "stdout",
          "text": [
            "x.size => 13\n",
            "[0.   0.25 0.5  0.75 1.   1.25 1.5  1.75 2.   2.25 2.5  2.75 3.  ]\n"
          ]
        }
      ]
    },
    {
      "cell_type": "code",
      "source": [
        "%reset -f\n",
        "import numpy as np\n",
        "x = np.linspace(0.00,3.00,13)\n",
        "assert x.size == 13\n",
        "print(x)"
      ],
      "metadata": {
        "colab": {
          "base_uri": "https://localhost:8080/"
        },
        "id": "yGvIRd0SDIE2",
        "outputId": "1eccf7f5-3e65-4882-955d-155af20a7d38"
      },
      "execution_count": 70,
      "outputs": [
        {
          "output_type": "stream",
          "name": "stdout",
          "text": [
            "[0.   0.25 0.5  0.75 1.   1.25 1.5  1.75 2.   2.25 2.5  2.75 3.  ]\n"
          ]
        }
      ]
    },
    {
      "cell_type": "code",
      "source": [
        "%reset -f\n",
        "import numpy as np\n",
        "\n",
        "p = list(range(10,20)) # リスト型を生成\n",
        "print(type(p))  # => <class 'list'>\n",
        "print(f'p={p}') # => p=[10, 11, 12, 13, 14, 15]\n",
        "print()\n",
        "\n",
        "q = np.array(p) # リスト型→ndarray型に変換\n",
        "\n",
        "print(type(q))  # => <class 'numpy.ndarray'>\n",
        "print(f'q={q}') # => q=[10 11 12 13 14 15]\n"
      ],
      "metadata": {
        "colab": {
          "base_uri": "https://localhost:8080/"
        },
        "id": "PzfctHD7DKdf",
        "outputId": "bcb2e10b-ab3e-4840-b08e-179dcc320aee"
      },
      "execution_count": 85,
      "outputs": [
        {
          "output_type": "stream",
          "name": "stdout",
          "text": [
            "<class 'list'>\n",
            "p=[10, 11, 12, 13, 14, 15, 16, 17, 18, 19]\n",
            "\n",
            "<class 'numpy.ndarray'>\n",
            "q=[10 11 12 13 14 15 16 17 18 19]\n"
          ]
        }
      ]
    },
    {
      "cell_type": "code",
      "source": [
        "%reset -f\n",
        "import numpy as np\n",
        "\n",
        "q = np.arange(10,16) # ndarray型を生成\n",
        "print(type(q))  # => <class 'numpy.ndarray'>\n",
        "print(f'q={q}') # => q=[10 11 12 13 14 15]\n",
        "print()\n",
        "\n",
        "p = q.tolist()  # ndarray型→リスト型に変換\n",
        "\n",
        "print(type(p))  # => <class 'list'>\n",
        "print(f'p={p}') # => p=[10, 11, 12, 13, 14, 15]\n",
        "a = tuple(q)  # ndarray型→リスト型に変換\n",
        "\n",
        "print(type(a))  # => <class 'list'>\n",
        "print(f'a={a}') # => p=[10, 11, 12, 13, 14, 15]"
      ],
      "metadata": {
        "colab": {
          "base_uri": "https://localhost:8080/"
        },
        "id": "LMc4jauNDboY",
        "outputId": "f103f549-6dbe-4b0c-c315-51ac718c670a"
      },
      "execution_count": 79,
      "outputs": [
        {
          "output_type": "stream",
          "name": "stdout",
          "text": [
            "<class 'numpy.ndarray'>\n",
            "q=[10 11 12 13 14 15]\n",
            "\n",
            "<class 'list'>\n",
            "p=[10, 11, 12, 13, 14, 15]\n",
            "<class 'tuple'>\n",
            "a=(10, 11, 12, 13, 14, 15)\n"
          ]
        }
      ]
    },
    {
      "cell_type": "code",
      "source": [
        "%reset -f\n",
        "import  numpy as np\n",
        "x = np.linspace(0.0,1.0,11) # 0.0 から 1.0 の範囲を11等分\n",
        "print(f'x = {x}')\n",
        "\n",
        "y = 2*x + 3 # ブロードキャストによる計算\n",
        "print(f'y = {y}')"
      ],
      "metadata": {
        "colab": {
          "base_uri": "https://localhost:8080/"
        },
        "id": "SeDfWrqREUjE",
        "outputId": "fc54e296-e820-469a-b0e5-cfa37cf65e1f"
      },
      "execution_count": 86,
      "outputs": [
        {
          "output_type": "stream",
          "name": "stdout",
          "text": [
            "x = [0.  0.1 0.2 0.3 0.4 0.5 0.6 0.7 0.8 0.9 1. ]\n",
            "y = [3.  3.2 3.4 3.6 3.8 4.  4.2 4.4 4.6 4.8 5. ]\n"
          ]
        }
      ]
    },
    {
      "cell_type": "code",
      "source": [
        "%reset -f\n",
        "import numpy as np\n",
        "import matplotlib.pyplot as plt  # Matplotlib の読込み\n",
        "\n",
        "x = np.linspace(-4,6,101)\n",
        "y = -x**3 + 3*x**2 + 9*x -27\n",
        "assert type(x) == np.ndarray  # x は ndarray型であることを確認\n",
        "assert type(y) == np.ndarray  # y は 〃\n",
        "\n",
        "fig,ax = plt.subplots(dpi=120)\n",
        "# ax.plot(x,y)\n",
        "ax.scatter(x,y,marker='o',s=15,alpha=0.5) # x と y を与えて丸を描画\n",
        "ax.axhline(0,c='black',lw=0.5) # y=0 に太線を描画\n",
        "ax.axvline(0,c='black',lw=0.5) # x=0 に太線を描画\n",
        "ax.grid() # グリッドの表示\n",
        "plt.show()"
      ],
      "metadata": {
        "colab": {
          "base_uri": "https://localhost:8080/",
          "height": 514
        },
        "id": "yQgk10B5EeUI",
        "outputId": "056ef76d-f016-4c9c-96df-2f0cb6263b27"
      },
      "execution_count": 97,
      "outputs": [
        {
          "output_type": "display_data",
          "data": {
            "text/plain": [
              "<Figure size 768x576 with 1 Axes>"
            ],
            "image/png": "[encoded data removed]"
          },
          "metadata": {}
        }
      ]
    },
    {
      "cell_type": "code",
      "source": [
        "%reset -f\n",
        "import numpy as np\n",
        "import matplotlib.pyplot as plt  # Matplotlib の読込み\n",
        "\n",
        "x = np.linspace(-4,6,101)\n",
        "y = -x**3 + 3*x**2 + 9*x -27\n",
        "assert type(x) == np.ndarray  # x は ndarray型であることを確認\n",
        "assert type(y) == np.ndarray  # y は 〃\n",
        "\n",
        "fig,ax = plt.subplots(dpi=120)"
      ],
      "metadata": {
        "colab": {
          "base_uri": "https://localhost:8080/",
          "height": 521
        },
        "id": "OP4h86yxFIB5",
        "outputId": "d68a58c0-b36d-4775-861b-1fa0fce73700"
      },
      "execution_count": 101,
      "outputs": [
        {
          "output_type": "display_data",
          "data": {
            "text/plain": [
              "<Figure size 768x576 with 1 Axes>"
            ],
            "image/png": "[encoded data removed]"
          },
          "metadata": {}
        }
      ]
    },
    {
      "cell_type": "code",
      "source": [
        "import cv2\n",
        "import numpy as np\n",
        "import matplotlib.pyplot as plt\n",
        "\n",
        "# 画像表示(Matplotlibのimshowを利用)\n",
        "def show_image(img):\n",
        "  plt.imshow(img,cmap='gray')\n",
        "  plt.axis('off')\n",
        "  plt.show()\n",
        "\n",
        "# 画像をグレースケール(8bit)で読み込み\n",
        "img = cv2.imread('lenna_256x256.png',cv2.IMREAD_GRAYSCALE)\n",
        "\n",
        "# 変数imgが格納するオブジェクトの基本情報の確認\n",
        "print(f'img は {type(img)} 型のデータで、',end='')\n",
        "print(f'次元は {img.ndim}、サイズは {img.shape} です。')\n",
        "\n",
        "# 画像の出力\n",
        "show_image(img)\n",
        "\n",
        "# 反転処理と処理後画像の出力\n",
        "img_r = 255 - img\n",
        "show_image(img_r)"
      ],
      "metadata": {
        "colab": {
          "base_uri": "https://localhost:8080/",
          "height": 275
        },
        "id": "2H2fio57FPP6",
        "outputId": "26b4d1d2-7264-4882-cc2b-0f092e9bad97"
      },
      "execution_count": 105,
      "outputs": [
        {
          "output_type": "stream",
          "name": "stdout",
          "text": [
            "img は <class 'NoneType'> 型のデータで、"
          ]
        },
        {
          "output_type": "error",
          "ename": "AttributeError",
          "evalue": "ignored",
          "traceback": [
            "\u001b[0;31m---------------------------------------------------------------------------\u001b[0m",
            "\u001b[0;31mAttributeError\u001b[0m                            Traceback (most recent call last)",
            "\u001b[0;32m<ipython-input-105-79e1a5d26342>\u001b[0m in \u001b[0;36m<cell line: 16>\u001b[0;34m()\u001b[0m\n\u001b[1;32m     14\u001b[0m \u001b[0;31m# 変数imgが格納するオブジェクトの基本情報の確認\u001b[0m\u001b[0;34m\u001b[0m\u001b[0;34m\u001b[0m\u001b[0m\n\u001b[1;32m     15\u001b[0m \u001b[0mprint\u001b[0m\u001b[0;34m(\u001b[0m\u001b[0;34mf'img は {type(img)} 型のデータで、'\u001b[0m\u001b[0;34m,\u001b[0m\u001b[0mend\u001b[0m\u001b[0;34m=\u001b[0m\u001b[0;34m''\u001b[0m\u001b[0;34m)\u001b[0m\u001b[0;34m\u001b[0m\u001b[0;34m\u001b[0m\u001b[0m\n\u001b[0;32m---> 16\u001b[0;31m \u001b[0mprint\u001b[0m\u001b[0;34m(\u001b[0m\u001b[0;34mf'次元は {img.ndim}、サイズは {img.shape} です。'\u001b[0m\u001b[0;34m)\u001b[0m\u001b[0;34m\u001b[0m\u001b[0;34m\u001b[0m\u001b[0m\n\u001b[0m\u001b[1;32m     17\u001b[0m \u001b[0;34m\u001b[0m\u001b[0m\n\u001b[1;32m     18\u001b[0m \u001b[0;31m# 画像の出力\u001b[0m\u001b[0;34m\u001b[0m\u001b[0;34m\u001b[0m\u001b[0m\n",
            "\u001b[0;31mAttributeError\u001b[0m: 'NoneType' object has no attribute 'ndim'"
          ]
        }
      ]
    },
    {
      "cell_type": "code",
      "source": [
        "%reset -f\n",
        "import numpy as np\n",
        "\n",
        "# 10,000,000個の乱数を生成\n",
        "q = np.random.rand(10_000_000)\n",
        "p = q.tolist()\n",
        "\n",
        "# リストとして平均値を計算\n",
        "assert type(p) == list\n",
        "%timeit sum(p)/len(p)\n",
        "\n",
        "# ndarray として平均値を計算\n",
        "assert type(q) == np.ndarray\n",
        "%timeit q.mean()"
      ],
      "metadata": {
        "colab": {
          "base_uri": "https://localhost:8080/"
        },
        "id": "o-yDpIlbGH28",
        "outputId": "141df13c-5c06-4cd8-b5db-0de7f5eddb25"
      },
      "execution_count": 107,
      "outputs": [
        {
          "output_type": "stream",
          "name": "stdout",
          "text": [
            "41 ms ± 462 µs per loop (mean ± std. dev. of 7 runs, 10 loops each)\n",
            "4.73 ms ± 340 µs per loop (mean ± std. dev. of 7 runs, 100 loops each)\n"
          ]
        }
      ]
    }
  ]
}